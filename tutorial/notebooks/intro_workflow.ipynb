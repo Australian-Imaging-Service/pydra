{
 "cells": [
  {
   "cell_type": "code",
   "execution_count": 2,
   "metadata": {},
   "outputs": [],
   "source": [
    "import pydra"
   ]
  },
  {
   "cell_type": "code",
   "execution_count": 3,
   "metadata": {},
   "outputs": [],
   "source": [
    "@pydra.mark.task\n",
    "def add_two(x):\n",
    "    return x + 2\n",
    "\n",
    "@pydra.mark.task\n",
    "def power(a, n=2):\n",
    "    return a**n\n",
    "\n",
    "@pydra.mark.task\n",
    "def mult_var(a, b):\n",
    "    return a * b"
   ]
  },
  {
   "cell_type": "markdown",
   "metadata": {},
   "source": [
    "## Workflow [wip]\n",
    "\n",
    "In order to run multiple tasks within one pipeline, we use another Pydra class: `Workflow`. Let's start from a workflow with a single task that has one input `x`.\n",
    "\n",
    "When we create a `Workflow` we have to specify `input_spec` that contains all of the inputs:"
   ]
  },
  {
   "cell_type": "code",
   "execution_count": 4,
   "metadata": {},
   "outputs": [],
   "source": [
    "wf1 = pydra.Workflow(name=\"wf1\", input_spec=[\"x\"], x=2)"
   ]
  },
  {
   "cell_type": "markdown",
   "metadata": {},
   "source": [
    "Now, we can add a task and specify that `x` will be taken from the workflow input by using so called *Lazy Input*, `x=wf1.lzin.x`. We should also add the `name` to the task we are using in the `Workflow`."
   ]
  },
  {
   "cell_type": "code",
   "execution_count": 9,
   "metadata": {},
   "outputs": [
    {
     "data": {
      "text/plain": [
       "wf1"
      ]
     },
     "execution_count": 9,
     "metadata": {},
     "output_type": "execute_result"
    }
   ],
   "source": [
    "wf1.add(add_two(name=\"sum\", x=wf1.lzin.x))"
   ]
  },
  {
   "cell_type": "markdown",
   "metadata": {},
   "source": [
    "Now, we can access the task by using a simple syntax:"
   ]
  },
  {
   "cell_type": "code",
   "execution_count": 11,
   "metadata": {},
   "outputs": [
    {
     "data": {
      "text/plain": [
       "sum"
      ]
     },
     "execution_count": 11,
     "metadata": {},
     "output_type": "execute_result"
    }
   ],
   "source": [
    "wf1.sum"
   ]
  },
  {
   "cell_type": "markdown",
   "metadata": {},
   "source": [
    "Now, we have to specify what would be the workflow output, for this one-task workflow, we simply take the output of `sum`:"
   ]
  },
  {
   "cell_type": "code",
   "execution_count": 12,
   "metadata": {},
   "outputs": [],
   "source": [
    "wf1.set_output([(\"out\", wf1.sum.lzout.out)])"
   ]
  },
  {
   "cell_type": "markdown",
   "metadata": {},
   "source": [
    "Now, we are ready to run the workflow:"
   ]
  },
  {
   "cell_type": "code",
   "execution_count": 13,
   "metadata": {},
   "outputs": [
    {
     "data": {
      "text/plain": [
       "Result(output=Output(out=4), runtime=None, errored=False)"
      ]
     },
     "execution_count": 13,
     "metadata": {},
     "output_type": "execute_result"
    }
   ],
   "source": [
    "with pydra.Submitter(plugin=\"cf\") as sub:\n",
    "    sub(wf1)\n",
    "\n",
    "wf1.result()"
   ]
  },
  {
   "cell_type": "markdown",
   "metadata": {},
   "source": [
    "The result of the workflow should be the same as the output of the task, i.e. 4."
   ]
  },
  {
   "attachments": {
    "wf_1.png": {
     "image/png": "[encoded data removed]"
    }
   },
   "cell_type": "markdown",
   "metadata": {},
   "source": [
    "![wf_1.png](attachment:wf_1.png)"
   ]
  },
  {
   "cell_type": "markdown",
   "metadata": {},
   "source": [
    "You can add as many task as you want to the workflow and return multiple variables"
   ]
  },
  {
   "cell_type": "code",
   "execution_count": 15,
   "metadata": {},
   "outputs": [
    {
     "data": {
      "text/plain": [
       "Result(output=Output(add_two=4, power=4), runtime=None, errored=False)"
      ]
     },
     "execution_count": 15,
     "metadata": {},
     "output_type": "execute_result"
    }
   ],
   "source": [
    "wf2 = pydra.Workflow(name=\"wf2\", input_spec=[\"x\"], x=2)\n",
    "wf2.add(add_two(name=\"add_two\", x=wf2.lzin.x))\n",
    "wf2.add(power(name=\"power\", a=wf2.lzin.x))\n",
    "\n",
    "wf2.set_output([(\"add_two\", wf2.add_two.lzout.out),\n",
    "                (\"power\", wf2.power.lzout.out)\n",
    "               ])\n",
    "\n",
    "with pydra.Submitter(plugin=\"cf\") as sub:\n",
    "    sub(wf2)\n",
    "\n",
    "wf2.result()"
   ]
  },
  {
   "cell_type": "markdown",
   "metadata": {},
   "source": [
    "#### connecting nodes\n",
    "\n",
    "Previous example showed a workflow with two nodes, but they were not connected with each other, they simply took input from the workflow and returned two outputs.\n",
    "\n",
    "If we want to connect nodes, we simply have to set the input of the second node to the output of the first node."
   ]
  },
  {
   "cell_type": "code",
   "execution_count": 16,
   "metadata": {},
   "outputs": [
    {
     "data": {
      "text/plain": [
       "Result(output=Output(add_two=4, power=16), runtime=None, errored=False)"
      ]
     },
     "execution_count": 16,
     "metadata": {},
     "output_type": "execute_result"
    }
   ],
   "source": [
    "wf3 = pydra.Workflow(name=\"wf3\", input_spec=[\"x\"], x=2)\n",
    "wf3.add(add_two(name=\"add_two\", x=wf3.lzin.x))\n",
    "wf3.add(power(name=\"power\", a=wf3.add_two.lzout.out))\n",
    "\n",
    "wf3.set_output([(\"add_two\", wf3.add_two.lzout.out),\n",
    "                (\"power\", wf3.power.lzout.out)\n",
    "               ])\n",
    "\n",
    "with pydra.Submitter(plugin=\"cf\") as sub:\n",
    "    sub(wf3)\n",
    "\n",
    "wf3.result()"
   ]
  },
  {
   "cell_type": "markdown",
   "metadata": {},
   "source": [
    "Now, we could see that the second node took an input from the first node, we can check it:"
   ]
  },
  {
   "cell_type": "code",
   "execution_count": 17,
   "metadata": {},
   "outputs": [
    {
     "data": {
      "text/plain": [
       "4"
      ]
     },
     "execution_count": 17,
     "metadata": {},
     "output_type": "execute_result"
    }
   ],
   "source": [
    "wf3.power.inputs.a"
   ]
  },
  {
   "attachments": {
    "wf_2.png": {
     "image/png": "[encoded data removed]"
    }
   },
   "cell_type": "markdown",
   "metadata": {},
   "source": [
    "![wf_2.png](attachment:wf_2.png)"
   ]
  },
  {
   "cell_type": "markdown",
   "metadata": {},
   "source": [
    "The node can be connected to multiple nodes, we can modify `wf` to add additional node that uses `mult_var` to multiple the outputs of two previous nodes"
   ]
  },
  {
   "cell_type": "code",
   "execution_count": 18,
   "metadata": {},
   "outputs": [
    {
     "data": {
      "text/plain": [
       "Result(output=Output(wf_out=16), runtime=None, errored=False)"
      ]
     },
     "execution_count": 18,
     "metadata": {},
     "output_type": "execute_result"
    }
   ],
   "source": [
    "wf4 = pydra.Workflow(name=\"wf2\", input_spec=[\"x\"], x=2)\n",
    "wf4.add(add_two(name=\"add_two\", x=wf4.lzin.x))\n",
    "wf4.add(power(name=\"power\", a=wf4.lzin.x))\n",
    "wf4.add(mult_var(name=\"mult\", a=wf4.add_two.lzout.out, b=wf4.power.lzout.out))\n",
    "\n",
    "wf4.set_output([(\"wf_out\", wf4.mult.lzout.out)])\n",
    "\n",
    "with pydra.Submitter(plugin=\"cf\") as sub:\n",
    "    sub(wf4)\n",
    "\n",
    "wf4.result()"
   ]
  },
  {
   "cell_type": "markdown",
   "metadata": {},
   "source": [
    "#### workflow with splitter\n",
    "\n",
    "Workflow as any task could also have a splitter. Let's take the previous workflow and add a splitter for the workflow input by setting `splitter` using `split` method."
   ]
  },
  {
   "cell_type": "code",
   "execution_count": 19,
   "metadata": {},
   "outputs": [
    {
     "data": {
      "text/plain": [
       "[Result(output=Output(wf_out=16), runtime=None, errored=False),\n",
       " Result(output=Output(wf_out=45), runtime=None, errored=False),\n",
       " Result(output=Output(wf_out=175), runtime=None, errored=False)]"
      ]
     },
     "execution_count": 19,
     "metadata": {},
     "output_type": "execute_result"
    }
   ],
   "source": [
    "wf5 = pydra.Workflow(name=\"wf2\", input_spec=[\"x\"])\n",
    "wf5.split(splitter=\"x\", x=[2, 3, 5])\n",
    "wf5.add(add_two(name=\"add_two\", x=wf5.lzin.x))\n",
    "wf5.add(power(name=\"power\", a=wf5.lzin.x))\n",
    "wf5.add(mult_var(name=\"mult\", a=wf5.add_two.lzout.out, b=wf5.power.lzout.out))\n",
    "\n",
    "wf5.set_output([(\"wf_out\", wf5.mult.lzout.out)])\n",
    "\n",
    "with pydra.Submitter(plugin=\"cf\") as sub:\n",
    "    sub(wf5)\n",
    "\n",
    "wf5.result()"
   ]
  },
  {
   "cell_type": "markdown",
   "metadata": {},
   "source": [
    "As we could expect, we received a list with three `Result`s. \n",
    "\n",
    "Let's create a new workflow that has two inputs and more complicated splitter."
   ]
  },
  {
   "cell_type": "code",
   "execution_count": 20,
   "metadata": {},
   "outputs": [
    {
     "data": {
      "text/plain": [
       "[Result(output=Output(wf_out=4), runtime=None, errored=False),\n",
       " Result(output=Output(wf_out=16), runtime=None, errored=False),\n",
       " Result(output=Output(wf_out=5), runtime=None, errored=False),\n",
       " Result(output=Output(wf_out=20), runtime=None, errored=False),\n",
       " Result(output=Output(wf_out=7), runtime=None, errored=False),\n",
       " Result(output=Output(wf_out=28), runtime=None, errored=False)]"
      ]
     },
     "execution_count": 20,
     "metadata": {},
     "output_type": "execute_result"
    }
   ],
   "source": [
    "wf6 = pydra.Workflow(name=\"wf2\", input_spec=[\"x\", \"y\"])\n",
    "wf6.split(splitter=[\"x\", \"y\"], x=[2, 3, 5], y=[1, 2])\n",
    "wf6.add(add_two(name=\"add_two\", x=wf6.lzin.x))\n",
    "wf6.add(power(name=\"power\", a=wf6.lzin.y))\n",
    "wf6.add(mult_var(name=\"mult\", a=wf6.add_two.lzout.out, b=wf6.power.lzout.out))\n",
    "\n",
    "wf6.set_output([(\"wf_out\", wf6.mult.lzout.out)])\n",
    "\n",
    "with pydra.Submitter(plugin=\"cf\") as sub:\n",
    "    sub(wf6)\n",
    "\n",
    "wf6.result()"
   ]
  },
  {
   "cell_type": "markdown",
   "metadata": {},
   "source": [
    "#### adding combiner\n",
    "\n",
    "Now we have six `Result`s! But we can also combine all or some results using the `combiner`. Let's combine results for all `x`."
   ]
  },
  {
   "cell_type": "code",
   "execution_count": 21,
   "metadata": {},
   "outputs": [
    {
     "data": {
      "text/plain": [
       "[[Result(output=Output(wf_out=4), runtime=None, errored=False),\n",
       "  Result(output=Output(wf_out=5), runtime=None, errored=False),\n",
       "  Result(output=Output(wf_out=7), runtime=None, errored=False)],\n",
       " [Result(output=Output(wf_out=16), runtime=None, errored=False),\n",
       "  Result(output=Output(wf_out=20), runtime=None, errored=False),\n",
       "  Result(output=Output(wf_out=28), runtime=None, errored=False)]]"
      ]
     },
     "execution_count": 21,
     "metadata": {},
     "output_type": "execute_result"
    }
   ],
   "source": [
    "wf6.combine(combiner=\"x\")\n",
    "\n",
    "with pydra.Submitter(plugin=\"cf\") as sub:\n",
    "    sub(wf6)\n",
    "\n",
    "wf6.result()"
   ]
  },
  {
   "attachments": {
    "ala.png": {
     "image/png": "[encoded data removed]"
    }
   },
   "cell_type": "markdown",
   "metadata": {},
   "source": [
    "![ala.png](attachment:ala.png)"
   ]
  },
  {
   "cell_type": "code",
   "execution_count": null,
   "metadata": {},
   "outputs": [],
   "source": []
  }
 ],
 "metadata": {
  "kernelspec": {
   "display_name": "Python 3",
   "language": "python",
   "name": "python3"
  },
  "language_info": {
   "codemirror_mode": {
    "name": "ipython",
    "version": 3
   },
   "file_extension": ".py",
   "mimetype": "text/x-python",
   "name": "python",
   "nbconvert_exporter": "python",
   "pygments_lexer": "ipython3",
   "version": "3.7.3"
  }
 },
 "nbformat": 4,
 "nbformat_minor": 2
}
